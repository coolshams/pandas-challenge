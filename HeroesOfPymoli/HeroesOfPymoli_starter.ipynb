{
 "cells": [
  {
   "cell_type": "markdown",
   "metadata": {},
   "source": [
    "### Note\n",
    "* Instructions have been included for each segment. You do not have to follow them exactly, but they are included to help you think through the steps."
   ]
  },
  {
   "cell_type": "code",
   "execution_count": 2,
   "metadata": {},
   "outputs": [
    {
     "data": {
      "text/html": [
       "<div>\n",
       "<style scoped>\n",
       "    .dataframe tbody tr th:only-of-type {\n",
       "        vertical-align: middle;\n",
       "    }\n",
       "\n",
       "    .dataframe tbody tr th {\n",
       "        vertical-align: top;\n",
       "    }\n",
       "\n",
       "    .dataframe thead th {\n",
       "        text-align: right;\n",
       "    }\n",
       "</style>\n",
       "<table border=\"1\" class=\"dataframe\">\n",
       "  <thead>\n",
       "    <tr style=\"text-align: right;\">\n",
       "      <th></th>\n",
       "      <th>Purchase ID</th>\n",
       "      <th>SN</th>\n",
       "      <th>Age</th>\n",
       "      <th>Gender</th>\n",
       "      <th>Item ID</th>\n",
       "      <th>Item Name</th>\n",
       "      <th>Price</th>\n",
       "    </tr>\n",
       "  </thead>\n",
       "  <tbody>\n",
       "    <tr>\n",
       "      <th>0</th>\n",
       "      <td>0</td>\n",
       "      <td>Lisim78</td>\n",
       "      <td>20</td>\n",
       "      <td>Male</td>\n",
       "      <td>108</td>\n",
       "      <td>Extraction, Quickblade Of Trembling Hands</td>\n",
       "      <td>3.53</td>\n",
       "    </tr>\n",
       "    <tr>\n",
       "      <th>1</th>\n",
       "      <td>1</td>\n",
       "      <td>Lisovynya38</td>\n",
       "      <td>40</td>\n",
       "      <td>Male</td>\n",
       "      <td>143</td>\n",
       "      <td>Frenzied Scimitar</td>\n",
       "      <td>1.56</td>\n",
       "    </tr>\n",
       "    <tr>\n",
       "      <th>2</th>\n",
       "      <td>2</td>\n",
       "      <td>Ithergue48</td>\n",
       "      <td>24</td>\n",
       "      <td>Male</td>\n",
       "      <td>92</td>\n",
       "      <td>Final Critic</td>\n",
       "      <td>4.88</td>\n",
       "    </tr>\n",
       "    <tr>\n",
       "      <th>3</th>\n",
       "      <td>3</td>\n",
       "      <td>Chamassasya86</td>\n",
       "      <td>24</td>\n",
       "      <td>Male</td>\n",
       "      <td>100</td>\n",
       "      <td>Blindscythe</td>\n",
       "      <td>3.27</td>\n",
       "    </tr>\n",
       "    <tr>\n",
       "      <th>4</th>\n",
       "      <td>4</td>\n",
       "      <td>Iskosia90</td>\n",
       "      <td>23</td>\n",
       "      <td>Male</td>\n",
       "      <td>131</td>\n",
       "      <td>Fury</td>\n",
       "      <td>1.44</td>\n",
       "    </tr>\n",
       "  </tbody>\n",
       "</table>\n",
       "</div>"
      ],
      "text/plain": [
       "   Purchase ID             SN  Age Gender  Item ID  \\\n",
       "0            0        Lisim78   20   Male      108   \n",
       "1            1    Lisovynya38   40   Male      143   \n",
       "2            2     Ithergue48   24   Male       92   \n",
       "3            3  Chamassasya86   24   Male      100   \n",
       "4            4      Iskosia90   23   Male      131   \n",
       "\n",
       "                                   Item Name  Price  \n",
       "0  Extraction, Quickblade Of Trembling Hands   3.53  \n",
       "1                          Frenzied Scimitar   1.56  \n",
       "2                               Final Critic   4.88  \n",
       "3                                Blindscythe   3.27  \n",
       "4                                       Fury   1.44  "
      ]
     },
     "execution_count": 2,
     "metadata": {},
     "output_type": "execute_result"
    }
   ],
   "source": [
    "# Dependencies and Setup\n",
    "import pandas as pd\n",
    "import numpy as np\n",
    "\n",
    "# Read Purchasing File path and store into Pandas data frame ('.'/since Resources folder is in same directory as .ipynb file)\n",
    "purchase_data = pd.read_csv(\"./Resources/purchase_data.csv\")\n",
    "purchase_data.head()"
   ]
  },
  {
   "cell_type": "markdown",
   "metadata": {},
   "source": []
  },
  {
   "cell_type": "markdown",
   "metadata": {},
   "source": [
    "* Display the total number of players\n"
   ]
  },
  {
   "cell_type": "code",
   "execution_count": 3,
   "metadata": {},
   "outputs": [
    {
     "data": {
      "text/html": [
       "<div>\n",
       "<style scoped>\n",
       "    .dataframe tbody tr th:only-of-type {\n",
       "        vertical-align: middle;\n",
       "    }\n",
       "\n",
       "    .dataframe tbody tr th {\n",
       "        vertical-align: top;\n",
       "    }\n",
       "\n",
       "    .dataframe thead th {\n",
       "        text-align: right;\n",
       "    }\n",
       "</style>\n",
       "<table border=\"1\" class=\"dataframe\">\n",
       "  <thead>\n",
       "    <tr style=\"text-align: right;\">\n",
       "      <th></th>\n",
       "      <th>Total Players</th>\n",
       "    </tr>\n",
       "  </thead>\n",
       "  <tbody>\n",
       "    <tr>\n",
       "      <th>0</th>\n",
       "      <td>576</td>\n",
       "    </tr>\n",
       "  </tbody>\n",
       "</table>\n",
       "</div>"
      ],
      "text/plain": [
       "   Total Players\n",
       "0            576"
      ]
     },
     "execution_count": 3,
     "metadata": {},
     "output_type": "execute_result"
    }
   ],
   "source": [
    "# Total number of players\n",
    "players=purchase_data[\"SN\"].value_counts()\n",
    "\n",
    "#len gives the count of players\n",
    "total_players=len(players)\n",
    "total_players_df=pd.DataFrame({\"Total Players\":[total_players]})\n",
    "total_players_df"
   ]
  },
  {
   "cell_type": "markdown",
   "metadata": {},
   "source": [
    "## Purchasing Analysis (Total)"
   ]
  },
  {
   "cell_type": "markdown",
   "metadata": {},
   "source": [
    "* Run basic calculations to obtain number of unique items, average price, etc.\n",
    "\n",
    "\n",
    "* Create a summary data frame to hold the results\n",
    "\n",
    "\n",
    "* Optional: give the displayed data cleaner formatting\n",
    "\n",
    "\n",
    "* Display the summary data frame\n"
   ]
  },
  {
   "cell_type": "code",
   "execution_count": 4,
   "metadata": {
    "scrolled": true
   },
   "outputs": [
    {
     "data": {
      "text/html": [
       "<div>\n",
       "<style scoped>\n",
       "    .dataframe tbody tr th:only-of-type {\n",
       "        vertical-align: middle;\n",
       "    }\n",
       "\n",
       "    .dataframe tbody tr th {\n",
       "        vertical-align: top;\n",
       "    }\n",
       "\n",
       "    .dataframe thead th {\n",
       "        text-align: right;\n",
       "    }\n",
       "</style>\n",
       "<table border=\"1\" class=\"dataframe\">\n",
       "  <thead>\n",
       "    <tr style=\"text-align: right;\">\n",
       "      <th></th>\n",
       "      <th>Number of Unique Items</th>\n",
       "      <th>Average Price</th>\n",
       "      <th>Number of Purchases</th>\n",
       "      <th>Total Revenue</th>\n",
       "    </tr>\n",
       "  </thead>\n",
       "  <tbody>\n",
       "    <tr>\n",
       "      <th>0</th>\n",
       "      <td>179</td>\n",
       "      <td>$3.05</td>\n",
       "      <td>780</td>\n",
       "      <td>$2,379.77</td>\n",
       "    </tr>\n",
       "  </tbody>\n",
       "</table>\n",
       "</div>"
      ],
      "text/plain": [
       "   Number of Unique Items  Average Price  Number of Purchases  Total Revenue\n",
       "0                     179          $3.05                  780      $2,379.77"
      ]
     },
     "execution_count": 4,
     "metadata": {},
     "output_type": "execute_result"
    }
   ],
   "source": [
    "# Number of unique items\n",
    "items=purchase_data[\"Item Name\"].value_counts()\n",
    "#print(len(items))\n",
    "\n",
    "#Average purchase price, total purchases & total revenue\n",
    "total_price=purchase_data[\"Price\"].sum()\n",
    "total_purchase=purchase_data[\"Price\"].count()\n",
    "avg_price=(total_price/total_purchase)\n",
    "\n",
    "#Formatting for floats\n",
    "pd.options.display.float_format='${:,.2f}'.format\n",
    "#print(avg_price)\n",
    "#print(total_purchase)\n",
    "#print(total_price)\n",
    "\n",
    "#Purchasing Analysis\n",
    "purchase_analysis_df=pd.DataFrame({\"Number of Unique Items\":[(len(items))], \"Average Price\":[avg_price],\"Number of Purchases\":[total_purchase],\"Total Revenue\":[total_price]})\n",
    "purchase_analysis_df"
   ]
  },
  {
   "cell_type": "markdown",
   "metadata": {},
   "source": [
    "## Gender Demographics"
   ]
  },
  {
   "cell_type": "markdown",
   "metadata": {},
   "source": [
    "* Percentage and Count of Male Players\n",
    "\n",
    "\n",
    "* Percentage and Count of Female Players\n",
    "\n",
    "\n",
    "* Percentage and Count of Other / Non-Disclosed\n",
    "\n",
    "\n"
   ]
  },
  {
   "cell_type": "code",
   "execution_count": 5,
   "metadata": {},
   "outputs": [
    {
     "data": {
      "text/html": [
       "<div>\n",
       "<style scoped>\n",
       "    .dataframe tbody tr th:only-of-type {\n",
       "        vertical-align: middle;\n",
       "    }\n",
       "\n",
       "    .dataframe tbody tr th {\n",
       "        vertical-align: top;\n",
       "    }\n",
       "\n",
       "    .dataframe thead th {\n",
       "        text-align: right;\n",
       "    }\n",
       "</style>\n",
       "<table border=\"1\" class=\"dataframe\">\n",
       "  <thead>\n",
       "    <tr style=\"text-align: right;\">\n",
       "      <th></th>\n",
       "      <th>Total Count</th>\n",
       "      <th>Percentage of Players</th>\n",
       "    </tr>\n",
       "  </thead>\n",
       "  <tbody>\n",
       "    <tr>\n",
       "      <th>Male</th>\n",
       "      <td>484</td>\n",
       "      <td>84.03%</td>\n",
       "    </tr>\n",
       "    <tr>\n",
       "      <th>Female</th>\n",
       "      <td>81</td>\n",
       "      <td>14.06%</td>\n",
       "    </tr>\n",
       "    <tr>\n",
       "      <th>Other / Non-Disclosed</th>\n",
       "      <td>11</td>\n",
       "      <td>1.91%</td>\n",
       "    </tr>\n",
       "  </tbody>\n",
       "</table>\n",
       "</div>"
      ],
      "text/plain": [
       "                       Total Count Percentage of Players\n",
       "Male                           484                84.03%\n",
       "Female                          81                14.06%\n",
       "Other / Non-Disclosed           11                 1.91%"
      ]
     },
     "execution_count": 5,
     "metadata": {},
     "output_type": "execute_result"
    }
   ],
   "source": [
    "#Player demographics-loc to access certain columns\n",
    "players_demo=purchase_data.loc[:,[\"Gender\", \"SN\", \"Age\"]]\n",
    "#print(players_demo)\n",
    "\n",
    "#Dropped duplicates from SN\n",
    "players_demo=players_demo.drop_duplicates()\n",
    "players_demo\n",
    "\n",
    "#Calculating the count & percent of players. total_players value is from the first (total players) code line.\n",
    "players_count=players_demo[\"Gender\"].value_counts()\n",
    "percent_players=players_count/total_players\n",
    "players_count\n",
    "\n",
    "#Gender Demographics\n",
    "gender_demographics = pd.DataFrame({\"Total Count\": players_count, \"Percentage of Players\": percent_players})\n",
    "#using map to format the values in percentage of players column to 2 decimal & a % sign\n",
    "gender_demographics['Percentage of Players'] = gender_demographics['Percentage of Players'].map(\"{:,.2%}\".format)\n",
    "\n",
    "gender_demographics"
   ]
  },
  {
   "cell_type": "markdown",
   "metadata": {},
   "source": [
    "\n",
    "## Purchasing Analysis (Gender)"
   ]
  },
  {
   "cell_type": "markdown",
   "metadata": {},
   "source": [
    "* Run basic calculations to obtain purchase count, avg. purchase price, avg. purchase total per person etc. by gender\n",
    "\n",
    "\n",
    "\n",
    "\n",
    "* Create a summary data frame to hold the results\n",
    "\n",
    "\n",
    "* Optional: give the displayed data cleaner formatting\n",
    "\n",
    "\n",
    "* Display the summary data frame"
   ]
  },
  {
   "cell_type": "code",
   "execution_count": 6,
   "metadata": {
    "scrolled": false
   },
   "outputs": [
    {
     "data": {
      "text/html": [
       "<div>\n",
       "<style scoped>\n",
       "    .dataframe tbody tr th:only-of-type {\n",
       "        vertical-align: middle;\n",
       "    }\n",
       "\n",
       "    .dataframe tbody tr th {\n",
       "        vertical-align: top;\n",
       "    }\n",
       "\n",
       "    .dataframe thead th {\n",
       "        text-align: right;\n",
       "    }\n",
       "</style>\n",
       "<table border=\"1\" class=\"dataframe\">\n",
       "  <thead>\n",
       "    <tr style=\"text-align: right;\">\n",
       "      <th></th>\n",
       "      <th>Gender</th>\n",
       "      <th>Purchase Count</th>\n",
       "      <th>Avg. Purchase Price</th>\n",
       "      <th>Total Purchase Value</th>\n",
       "      <th>Avg. Total Purchase Price</th>\n",
       "    </tr>\n",
       "  </thead>\n",
       "  <tbody>\n",
       "    <tr>\n",
       "      <th>0</th>\n",
       "      <td>Female</td>\n",
       "      <td>113</td>\n",
       "      <td>$3.20</td>\n",
       "      <td>$361.94</td>\n",
       "      <td>$4.47</td>\n",
       "    </tr>\n",
       "    <tr>\n",
       "      <th>1</th>\n",
       "      <td>Male</td>\n",
       "      <td>652</td>\n",
       "      <td>$3.02</td>\n",
       "      <td>$1,967.64</td>\n",
       "      <td>$4.07</td>\n",
       "    </tr>\n",
       "    <tr>\n",
       "      <th>2</th>\n",
       "      <td>Other / Non-Disclosed</td>\n",
       "      <td>15</td>\n",
       "      <td>$3.35</td>\n",
       "      <td>$50.19</td>\n",
       "      <td>$4.56</td>\n",
       "    </tr>\n",
       "  </tbody>\n",
       "</table>\n",
       "</div>"
      ],
      "text/plain": [
       "                  Gender  Purchase Count  Avg. Purchase Price  \\\n",
       "0                 Female             113                $3.20   \n",
       "1                   Male             652                $3.02   \n",
       "2  Other / Non-Disclosed              15                $3.35   \n",
       "\n",
       "   Total Purchase Value  Avg. Total Purchase Price  \n",
       "0               $361.94                      $4.47  \n",
       "1             $1,967.64                      $4.07  \n",
       "2                $50.19                      $4.56  "
      ]
     },
     "execution_count": 6,
     "metadata": {},
     "output_type": "execute_result"
    }
   ],
   "source": [
    "#Dataframe grouped by gender data\n",
    "gender_group=purchase_data.groupby([\"Gender\"])\n",
    "#print(gender_group)\n",
    "\n",
    "#Count values grouped by purchase ID\n",
    "purchase_count=gender_group[\"Purchase ID\"].count()\n",
    "#print(purchase_count)\n",
    "\n",
    "#Avg purchase price - used aggregate function to get the mean of prices grouped by gender\n",
    "avg_price=gender_group['Price'].agg(np.mean)\n",
    "\n",
    "#Avg. purchase total per person by gender\n",
    "SN_group=purchase_data.groupby([\"SN\", \"Gender\"])\n",
    "sum_SN=SN_group[\"Price\"].agg(np.sum)\n",
    "avg_SN_gender=sum_SN.groupby([\"Gender\"]).agg(np.mean)\n",
    "#print(avg_SN_gender)\n",
    "\n",
    "#Purchasing Analysis Gender-reset_index() for the columns names to 'align'\n",
    "gender_demo=pd.DataFrame({\"Purchase Count\":(purchase_count), \"Avg. Purchase Price\":(gender_group['Price'].agg(np.mean)), \"Total Purchase Value\":(gender_group['Price'].agg(np.sum)), \"Avg. Total Purchase Price\":(avg_SN_gender)}).reset_index()\n",
    "gender_demo"
   ]
  },
  {
   "cell_type": "markdown",
   "metadata": {},
   "source": [
    "## Age Demographics"
   ]
  },
  {
   "cell_type": "markdown",
   "metadata": {},
   "source": [
    "* Establish bins for ages\n",
    "\n",
    "\n",
    "* Categorize the existing players using the age bins. Hint: use pd.cut()\n",
    "\n",
    "\n",
    "* Calculate the numbers and percentages by age group\n",
    "\n",
    "\n",
    "* Create a summary data frame to hold the results\n",
    "\n",
    "\n",
    "* Optional: round the percentage column to two decimal points\n",
    "\n",
    "\n",
    "* Display Age Demographics Table\n"
   ]
  },
  {
   "cell_type": "code",
   "execution_count": 7,
   "metadata": {},
   "outputs": [
    {
     "name": "stderr",
     "output_type": "stream",
     "text": [
      "<ipython-input-7-bd3e28b6d0ba>:9: SettingWithCopyWarning: \n",
      "A value is trying to be set on a copy of a slice from a DataFrame.\n",
      "Try using .loc[row_indexer,col_indexer] = value instead\n",
      "\n",
      "See the caveats in the documentation: https://pandas.pydata.org/pandas-docs/stable/user_guide/indexing.html#returning-a-view-versus-a-copy\n",
      "  non_duplicate_data[\"Age Group\"]=age_bins\n"
     ]
    },
    {
     "data": {
      "text/html": [
       "<div>\n",
       "<style scoped>\n",
       "    .dataframe tbody tr th:only-of-type {\n",
       "        vertical-align: middle;\n",
       "    }\n",
       "\n",
       "    .dataframe tbody tr th {\n",
       "        vertical-align: top;\n",
       "    }\n",
       "\n",
       "    .dataframe thead th {\n",
       "        text-align: right;\n",
       "    }\n",
       "</style>\n",
       "<table border=\"1\" class=\"dataframe\">\n",
       "  <thead>\n",
       "    <tr style=\"text-align: right;\">\n",
       "      <th></th>\n",
       "      <th>Age Group</th>\n",
       "      <th>Age Count</th>\n",
       "      <th>Age Percentage</th>\n",
       "    </tr>\n",
       "  </thead>\n",
       "  <tbody>\n",
       "    <tr>\n",
       "      <th>0</th>\n",
       "      <td>&lt;10</td>\n",
       "      <td>17</td>\n",
       "      <td>2.95%</td>\n",
       "    </tr>\n",
       "    <tr>\n",
       "      <th>1</th>\n",
       "      <td>10-14</td>\n",
       "      <td>22</td>\n",
       "      <td>3.82%</td>\n",
       "    </tr>\n",
       "    <tr>\n",
       "      <th>2</th>\n",
       "      <td>15-19</td>\n",
       "      <td>107</td>\n",
       "      <td>18.58%</td>\n",
       "    </tr>\n",
       "    <tr>\n",
       "      <th>3</th>\n",
       "      <td>20-24</td>\n",
       "      <td>258</td>\n",
       "      <td>44.79%</td>\n",
       "    </tr>\n",
       "    <tr>\n",
       "      <th>4</th>\n",
       "      <td>25-29</td>\n",
       "      <td>77</td>\n",
       "      <td>13.37%</td>\n",
       "    </tr>\n",
       "    <tr>\n",
       "      <th>5</th>\n",
       "      <td>30-34</td>\n",
       "      <td>52</td>\n",
       "      <td>9.03%</td>\n",
       "    </tr>\n",
       "    <tr>\n",
       "      <th>6</th>\n",
       "      <td>35-39</td>\n",
       "      <td>31</td>\n",
       "      <td>5.38%</td>\n",
       "    </tr>\n",
       "    <tr>\n",
       "      <th>7</th>\n",
       "      <td>40+</td>\n",
       "      <td>12</td>\n",
       "      <td>2.08%</td>\n",
       "    </tr>\n",
       "  </tbody>\n",
       "</table>\n",
       "</div>"
      ],
      "text/plain": [
       "  Age Group  Age Count Age Percentage\n",
       "0       <10         17          2.95%\n",
       "1     10-14         22          3.82%\n",
       "2     15-19        107         18.58%\n",
       "3     20-24        258         44.79%\n",
       "4     25-29         77         13.37%\n",
       "5     30-34         52          9.03%\n",
       "6     35-39         31          5.38%\n",
       "7       40+         12          2.08%"
      ]
     },
     "execution_count": 7,
     "metadata": {},
     "output_type": "execute_result"
    }
   ],
   "source": [
    "_data=purchase_data.loc[:,[\"SN\", \"Age\"]]\n",
    "non_duplicate_data = _data.drop_duplicates()\n",
    "#print(non_duplicate_data.count())\n",
    "\n",
    "#Used pd.cut to on Age column to create bins\n",
    "age_bins=pd.cut(non_duplicate_data[\"Age\"], bins=[0,9.9,14.9,19.9,24.9,29.9,34.9,39.9,45], labels=[\"<10\",\"10-14\",\"15-19\",\"20-24\",\"25-29\",\"30-34\",\"35-39\",\"40+\"])\n",
    "\n",
    "#Added new column named Age group to the df\n",
    "non_duplicate_data[\"Age Group\"]=age_bins\n",
    "non_duplicate_data\n",
    "\n",
    "#Grouped data by age group\n",
    "age_group=non_duplicate_data.groupby([\"Age Group\"])\n",
    "#Calculated age count\n",
    "count_age=age_group[\"Age\"].count()\n",
    "count_age\n",
    "#Calculated age percent\n",
    "age_percent = count_age/total_players\n",
    "age_percent\n",
    "\n",
    "age_demographics = pd.DataFrame({\"Age Count\": count_age, \"Age Percentage\": age_percent}).reset_index()\n",
    "#using map to format the values in Age percentage column to 2 decimal & a % sign\n",
    "age_demographics[\"Age Percentage\"] = age_demographics[\"Age Percentage\"].map(\"{:,.2%}\".format)\n",
    "age_demographics"
   ]
  },
  {
   "cell_type": "markdown",
   "metadata": {},
   "source": [
    "## Purchasing Analysis (Age)"
   ]
  },
  {
   "cell_type": "markdown",
   "metadata": {},
   "source": [
    "* Bin the purchase_data data frame by age\n",
    "\n",
    "\n",
    "* Run basic calculations to obtain purchase count, avg. purchase price, avg. purchase total per person etc. in the table below\n",
    "\n",
    "\n",
    "* Create a summary data frame to hold the results\n",
    "\n",
    "\n",
    "* Optional: give the displayed data cleaner formatting\n",
    "\n",
    "\n",
    "* Display the summary data frame"
   ]
  },
  {
   "cell_type": "code",
   "execution_count": 12,
   "metadata": {},
   "outputs": [
    {
     "data": {
      "text/html": [
       "<div>\n",
       "<style scoped>\n",
       "    .dataframe tbody tr th:only-of-type {\n",
       "        vertical-align: middle;\n",
       "    }\n",
       "\n",
       "    .dataframe tbody tr th {\n",
       "        vertical-align: top;\n",
       "    }\n",
       "\n",
       "    .dataframe thead th {\n",
       "        text-align: right;\n",
       "    }\n",
       "</style>\n",
       "<table border=\"1\" class=\"dataframe\">\n",
       "  <thead>\n",
       "    <tr style=\"text-align: right;\">\n",
       "      <th></th>\n",
       "      <th>Age Group</th>\n",
       "      <th>Purchase Count</th>\n",
       "      <th>Avg. Purchase Price</th>\n",
       "      <th>Total Purchase Value</th>\n",
       "      <th>Avg. Total Purchase Per Person</th>\n",
       "    </tr>\n",
       "  </thead>\n",
       "  <tbody>\n",
       "    <tr>\n",
       "      <th>0</th>\n",
       "      <td>&lt;10</td>\n",
       "      <td>23</td>\n",
       "      <td>$3.35</td>\n",
       "      <td>$77.13</td>\n",
       "      <td>$3.35</td>\n",
       "    </tr>\n",
       "    <tr>\n",
       "      <th>1</th>\n",
       "      <td>10-14</td>\n",
       "      <td>28</td>\n",
       "      <td>$2.96</td>\n",
       "      <td>$82.78</td>\n",
       "      <td>$2.96</td>\n",
       "    </tr>\n",
       "    <tr>\n",
       "      <th>3</th>\n",
       "      <td>20-24</td>\n",
       "      <td>365</td>\n",
       "      <td>$3.05</td>\n",
       "      <td>$1,114.06</td>\n",
       "      <td>$3.05</td>\n",
       "    </tr>\n",
       "    <tr>\n",
       "      <th>5</th>\n",
       "      <td>30-34</td>\n",
       "      <td>73</td>\n",
       "      <td>$2.93</td>\n",
       "      <td>$214.00</td>\n",
       "      <td>$2.93</td>\n",
       "    </tr>\n",
       "    <tr>\n",
       "      <th>7</th>\n",
       "      <td>40+</td>\n",
       "      <td>13</td>\n",
       "      <td>$2.94</td>\n",
       "      <td>$38.24</td>\n",
       "      <td>$2.94</td>\n",
       "    </tr>\n",
       "  </tbody>\n",
       "</table>\n",
       "</div>"
      ],
      "text/plain": [
       "  Age Group  Purchase Count  Avg. Purchase Price  Total Purchase Value  \\\n",
       "0       <10              23                $3.35                $77.13   \n",
       "1     10-14              28                $2.96                $82.78   \n",
       "3     20-24             365                $3.05             $1,114.06   \n",
       "5     30-34              73                $2.93               $214.00   \n",
       "7       40+              13                $2.94                $38.24   \n",
       "\n",
       "   Avg. Total Purchase Per Person  \n",
       "0                           $3.35  \n",
       "1                           $2.96  \n",
       "3                           $3.05  \n",
       "5                           $2.93  \n",
       "7                           $2.94  "
      ]
     },
     "execution_count": 12,
     "metadata": {},
     "output_type": "execute_result"
    }
   ],
   "source": [
    "#Used pd.cut to on Age column to create bins\n",
    "age_bins=pd.cut(purchase_data[\"Age\"], bins=[0,9.9,14.9,19.9,24.9,29.9,34.9,39.9,46.9], labels=[\"<10\",\"10-14\",\"15-19\",\"20-24\",\"25-29\",\"30-34\",\"35-39\",\"40+\"])\n",
    "age_bins\n",
    "\n",
    "purchase_data[\"Age Group\"]=age_bins\n",
    "\n",
    "age_group=purchase_data.groupby([\"Age Group\"])\n",
    "#price_count\n",
    "price_count=age_group[\"Price\"].count()\n",
    "price_count.dropna()\n",
    "\n",
    "#avg_price\n",
    "avg_price=age_group[\"Price\"].mean()\n",
    "avg_price.dropna()\n",
    "\n",
    "#total_price\n",
    "total_price=age_group[\"Price\"].sum()\n",
    "total_price.dropna()\n",
    "\n",
    "total_purchase_price_count=age_group[\"Price\"].count()\n",
    "\n",
    "#Avg. total purchase per person\n",
    "avg_per_person=total_price/total_purchase_price_count\n",
    "avg_per_person.dropna()\n",
    "\n",
    "#Age Demographics\n",
    "age_demographics = pd.DataFrame({\"Purchase Count\": price_count, \"Avg. Purchase Price\": avg_price, \"Total Purchase Value\": total_price, \"Avg. Total Purchase Per Person\": avg_per_person}).reset_index()\n",
    "\n",
    "#Dropped rows with age-groups that are not asked\n",
    "age_demographics = age_demographics[age_demographics[\"Age Group\"]!=\"15-19\"]\n",
    "age_demographics = age_demographics[age_demographics[\"Age Group\"]!=\"25-29\"]\n",
    "age_demographics = age_demographics[age_demographics[\"Age Group\"]!=\"35-39\"]\n",
    "age_demographics"
   ]
  },
  {
   "cell_type": "markdown",
   "metadata": {},
   "source": [
    "## Top Spenders"
   ]
  },
  {
   "cell_type": "markdown",
   "metadata": {},
   "source": [
    "* Run basic calculations to obtain the results in the table below\n",
    "\n",
    "\n",
    "* Create a summary data frame to hold the results\n",
    "\n",
    "\n",
    "* Sort the total purchase value column in descending order\n",
    "\n",
    "\n",
    "* Optional: give the displayed data cleaner formatting\n",
    "\n",
    "\n",
    "* Display a preview of the summary data frame\n",
    "\n"
   ]
  },
  {
   "cell_type": "code",
   "execution_count": null,
   "metadata": {
    "scrolled": false
   },
   "outputs": [],
   "source": [
    "#This statement groups by SN & agg price sum-if as_index false is not included, the column name for price disappears\n",
    "SN_group=purchase_data.groupby(['SN'],as_index=False)['Price'].agg(np.sum)\n",
    "#sorting values by price and in descending order\n",
    "SN_group_desc=SN_group_desc.sort_values(by=['Price'],ascending=False)\n",
    "\n",
    "#Similar to above, group by SN and counts price\n",
    "purchase_count=purchase_data.groupby(['SN'],as_index=False)['Price'].count()\n",
    "#Sorts the values by price and in descending order\n",
    "purchase_count_desc=purchase_count.sort_values(by=['Price'],ascending=False)\n",
    "\n",
    "#merging the two sorted dataframes on SN\n",
    "avg_total_price=pd.merge(SN_group_desc,purchase_count_desc, how=\"left\", on=\"SN\")\n",
    "#assigning new column names to the merged dataframe\n",
    "avg_total_price.columns=[\"SN\",\"Total Purchase Value\", \"Purchase Count\"]\n",
    "\n",
    "#calculating average purchase price & assigning the output to a new column Average purchase price\n",
    "avg_total_price[\"Average Purchase Price\"]=avg_total_price[\"Total Purchase Value\"]/avg_total_price[\"Purchase Count\"]\n",
    "\n",
    "#Rearranging columns as in the example solution\n",
    "top_spenders=avg_total_price[[\"SN\",\"Purchase Count\", \"Average Purchase Price\", \"Total Purchase Value\"]]\n",
    "\n",
    "#filtering the top 5 values\n",
    "top_spenders=top_spenders.head(5)\n",
    "print(top_spenders)\n"
   ]
  },
  {
   "cell_type": "markdown",
   "metadata": {},
   "source": [
    "## Most Popular Items"
   ]
  },
  {
   "cell_type": "markdown",
   "metadata": {},
   "source": [
    "* Retrieve the Item ID, Item Name, and Item Price columns\n",
    "\n",
    "\n",
    "* Group by Item ID and Item Name. Perform calculations to obtain purchase count, average item price, and total purchase value\n",
    "\n",
    "\n",
    "* Create a summary data frame to hold the results\n",
    "\n",
    "\n",
    "* Sort the purchase count column in descending order\n",
    "\n",
    "\n",
    "* Optional: give the displayed data cleaner formatting\n",
    "\n",
    "\n",
    "* Display a preview of the summary data frame\n",
    "\n"
   ]
  },
  {
   "cell_type": "code",
   "execution_count": null,
   "metadata": {},
   "outputs": [],
   "source": [
    "#Grouped by Item Name and item ID, used 'SN' to count\n",
    "popular_count=purchase_data.groupby(['Item ID','Item Name'],as_index=False)['SN'].count()\n",
    "#print(popular_count)\n",
    "\n",
    "#Sorting values by count and in descending order (renamed SN to Purchase Count after merging below)\n",
    "popular_count_desc=popular_count.sort_values(by=['SN'],ascending=False)\n",
    "\n",
    "#Grouped by Item ID and calculating the average price\n",
    "avg_price=purchase_data.groupby(['Item ID'],as_index=False)['Price'].agg(np.mean)\n",
    "\n",
    "#Sorting by average price and in descending order (renamed Price to Avg Price after merging below)\n",
    "avg_price_desc=avg_price.sort_values(by=['Price'],ascending=False)\n",
    "\n",
    "#Grouped by Item ID and calculating the total purchase price\n",
    "total_price=purchase_data.groupby(['Item ID'],as_index=False)['Price'].sum()\n",
    "#print(total_price)\n",
    "\n",
    "#Sorting by price in descending order\n",
    "total_price_desc=total_price.sort_values(by=['Price'], ascending=False)\n",
    "#print to check the output of this group by\n",
    "#print(total_price_desc)\n",
    "\n",
    "#merging the two dataframes sorted popular count & avg price on Item ID\n",
    "avg_count=pd.merge(popular_count_desc,avg_price_desc, how=\"left\", on=\"Item ID\")\n",
    "#print(avg_count)\n",
    "\n",
    "#merging sorted avg total price and above merged dataframes\n",
    "avg_count_tot_price=pd.merge(avg_count,total_price_desc, how=\"left\", on=\"Item ID\")\n",
    "\n",
    "#Renaming columns\n",
    "avg_count_tot_price.columns = ['Item ID','Item Name','Purchase Count', 'Item Price', 'Total Purchase Value']\n",
    "\n",
    "#filtering the top 5 values\n",
    "popular_items=avg_count_tot_price.head(5)\n",
    "print(popular_items)\n"
   ]
  },
  {
   "cell_type": "markdown",
   "metadata": {},
   "source": [
    "## Most Profitable Items"
   ]
  },
  {
   "cell_type": "markdown",
   "metadata": {},
   "source": [
    "* Sort the above table by total purchase value in descending order\n",
    "\n",
    "\n",
    "* Optional: give the displayed data cleaner formatting\n",
    "\n",
    "\n",
    "* Display a preview of the data frame\n",
    "\n"
   ]
  },
  {
   "cell_type": "code",
   "execution_count": null,
   "metadata": {
    "scrolled": true
   },
   "outputs": [],
   "source": [
    "#Sorting the above obtained data by total purchase price in descending order\n",
    "profitable_items=avg_count_tot_price.sort_values(by=['Total Purchase Value'], ascending=True)\n",
    "\n",
    "#filtering to 5 values\n",
    "profitable_items=profitable_items.head(5)\n",
    "print(profitable_items)"
   ]
  },
  {
   "cell_type": "code",
   "execution_count": null,
   "metadata": {},
   "outputs": [],
   "source": []
  }
 ],
 "metadata": {
  "anaconda-cloud": {},
  "kernel_info": {
   "name": "python3"
  },
  "kernelspec": {
   "display_name": "Python 3",
   "language": "python",
   "name": "python3"
  },
  "language_info": {
   "codemirror_mode": {
    "name": "ipython",
    "version": 3
   },
   "file_extension": ".py",
   "mimetype": "text/x-python",
   "name": "python",
   "nbconvert_exporter": "python",
   "pygments_lexer": "ipython3",
   "version": "3.8.3"
  },
  "latex_envs": {
   "LaTeX_envs_menu_present": true,
   "autoclose": false,
   "autocomplete": true,
   "bibliofile": "biblio.bib",
   "cite_by": "apalike",
   "current_citInitial": 1,
   "eqLabelWithNumbers": true,
   "eqNumInitial": 1,
   "hotkeys": {
    "equation": "Ctrl-E",
    "itemize": "Ctrl-I"
   },
   "labels_anchors": false,
   "latex_user_defs": false,
   "report_style_numbering": false,
   "user_envs_cfg": false
  },
  "nteract": {
   "version": "0.2.0"
  }
 },
 "nbformat": 4,
 "nbformat_minor": 2
}
