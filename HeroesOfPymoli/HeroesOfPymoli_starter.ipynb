{
 "cells": [
  {
   "cell_type": "markdown",
   "metadata": {},
   "source": [
    "### Note\n",
    "* Instructions have been included for each segment. You do not have to follow them exactly, but they are included to help you think through the steps."
   ]
  },
  {
   "cell_type": "code",
   "execution_count": 211,
   "metadata": {},
   "outputs": [
    {
     "data": {
      "text/html": [
       "<div>\n",
       "<style scoped>\n",
       "    .dataframe tbody tr th:only-of-type {\n",
       "        vertical-align: middle;\n",
       "    }\n",
       "\n",
       "    .dataframe tbody tr th {\n",
       "        vertical-align: top;\n",
       "    }\n",
       "\n",
       "    .dataframe thead th {\n",
       "        text-align: right;\n",
       "    }\n",
       "</style>\n",
       "<table border=\"1\" class=\"dataframe\">\n",
       "  <thead>\n",
       "    <tr style=\"text-align: right;\">\n",
       "      <th></th>\n",
       "      <th>Purchase ID</th>\n",
       "      <th>SN</th>\n",
       "      <th>Age</th>\n",
       "      <th>Gender</th>\n",
       "      <th>Item ID</th>\n",
       "      <th>Item Name</th>\n",
       "      <th>Price</th>\n",
       "    </tr>\n",
       "  </thead>\n",
       "  <tbody>\n",
       "    <tr>\n",
       "      <th>0</th>\n",
       "      <td>0</td>\n",
       "      <td>Lisim78</td>\n",
       "      <td>20</td>\n",
       "      <td>Male</td>\n",
       "      <td>108</td>\n",
       "      <td>Extraction, Quickblade Of Trembling Hands</td>\n",
       "      <td>$3.53</td>\n",
       "    </tr>\n",
       "    <tr>\n",
       "      <th>1</th>\n",
       "      <td>1</td>\n",
       "      <td>Lisovynya38</td>\n",
       "      <td>40</td>\n",
       "      <td>Male</td>\n",
       "      <td>143</td>\n",
       "      <td>Frenzied Scimitar</td>\n",
       "      <td>$1.56</td>\n",
       "    </tr>\n",
       "    <tr>\n",
       "      <th>2</th>\n",
       "      <td>2</td>\n",
       "      <td>Ithergue48</td>\n",
       "      <td>24</td>\n",
       "      <td>Male</td>\n",
       "      <td>92</td>\n",
       "      <td>Final Critic</td>\n",
       "      <td>$4.88</td>\n",
       "    </tr>\n",
       "    <tr>\n",
       "      <th>3</th>\n",
       "      <td>3</td>\n",
       "      <td>Chamassasya86</td>\n",
       "      <td>24</td>\n",
       "      <td>Male</td>\n",
       "      <td>100</td>\n",
       "      <td>Blindscythe</td>\n",
       "      <td>$3.27</td>\n",
       "    </tr>\n",
       "    <tr>\n",
       "      <th>4</th>\n",
       "      <td>4</td>\n",
       "      <td>Iskosia90</td>\n",
       "      <td>23</td>\n",
       "      <td>Male</td>\n",
       "      <td>131</td>\n",
       "      <td>Fury</td>\n",
       "      <td>$1.44</td>\n",
       "    </tr>\n",
       "  </tbody>\n",
       "</table>\n",
       "</div>"
      ],
      "text/plain": [
       "   Purchase ID             SN  Age Gender  Item ID  \\\n",
       "0            0        Lisim78   20   Male      108   \n",
       "1            1    Lisovynya38   40   Male      143   \n",
       "2            2     Ithergue48   24   Male       92   \n",
       "3            3  Chamassasya86   24   Male      100   \n",
       "4            4      Iskosia90   23   Male      131   \n",
       "\n",
       "                                   Item Name  Price  \n",
       "0  Extraction, Quickblade Of Trembling Hands  $3.53  \n",
       "1                          Frenzied Scimitar  $1.56  \n",
       "2                               Final Critic  $4.88  \n",
       "3                                Blindscythe  $3.27  \n",
       "4                                       Fury  $1.44  "
      ]
     },
     "execution_count": 211,
     "metadata": {},
     "output_type": "execute_result"
    }
   ],
   "source": [
    "# Dependencies and Setup\n",
    "import pandas as pd\n",
    "import numpy as np\n",
    "\n",
    "# Read Purchasing File path and store into Pandas data frame ('.'/since Resources folder is in same directory as .ipynb file)\n",
    "purchase_data = pd.read_csv(\"./Resources/purchase_data.csv\")\n",
    "purchase_data.head()"
   ]
  },
  {
   "cell_type": "markdown",
   "metadata": {},
   "source": []
  },
  {
   "cell_type": "markdown",
   "metadata": {},
   "source": [
    "* Display the total number of players\n"
   ]
  },
  {
   "cell_type": "code",
   "execution_count": 212,
   "metadata": {},
   "outputs": [
    {
     "data": {
      "text/html": [
       "<div>\n",
       "<style scoped>\n",
       "    .dataframe tbody tr th:only-of-type {\n",
       "        vertical-align: middle;\n",
       "    }\n",
       "\n",
       "    .dataframe tbody tr th {\n",
       "        vertical-align: top;\n",
       "    }\n",
       "\n",
       "    .dataframe thead th {\n",
       "        text-align: right;\n",
       "    }\n",
       "</style>\n",
       "<table border=\"1\" class=\"dataframe\">\n",
       "  <thead>\n",
       "    <tr style=\"text-align: right;\">\n",
       "      <th></th>\n",
       "      <th>Total Players</th>\n",
       "    </tr>\n",
       "  </thead>\n",
       "  <tbody>\n",
       "    <tr>\n",
       "      <th>0</th>\n",
       "      <td>576</td>\n",
       "    </tr>\n",
       "  </tbody>\n",
       "</table>\n",
       "</div>"
      ],
      "text/plain": [
       "   Total Players\n",
       "0            576"
      ]
     },
     "execution_count": 212,
     "metadata": {},
     "output_type": "execute_result"
    }
   ],
   "source": [
    "# Total number of players\n",
    "players=purchase_data[\"SN\"].value_counts()\n",
    "\n",
    "#len gives the count of those unique values\n",
    "total_players=len(players)\n",
    "total_players_df=pd.DataFrame({\"Total Players\":[total_players]})\n",
    "total_players_df"
   ]
  },
  {
   "cell_type": "markdown",
   "metadata": {},
   "source": [
    "## Purchasing Analysis (Total)"
   ]
  },
  {
   "cell_type": "markdown",
   "metadata": {},
   "source": [
    "* Run basic calculations to obtain number of unique items, average price, etc.\n",
    "\n",
    "\n",
    "* Create a summary data frame to hold the results\n",
    "\n",
    "\n",
    "* Optional: give the displayed data cleaner formatting\n",
    "\n",
    "\n",
    "* Display the summary data frame\n"
   ]
  },
  {
   "cell_type": "code",
   "execution_count": 213,
   "metadata": {
    "scrolled": true
   },
   "outputs": [
    {
     "data": {
      "text/html": [
       "<div>\n",
       "<style scoped>\n",
       "    .dataframe tbody tr th:only-of-type {\n",
       "        vertical-align: middle;\n",
       "    }\n",
       "\n",
       "    .dataframe tbody tr th {\n",
       "        vertical-align: top;\n",
       "    }\n",
       "\n",
       "    .dataframe thead th {\n",
       "        text-align: right;\n",
       "    }\n",
       "</style>\n",
       "<table border=\"1\" class=\"dataframe\">\n",
       "  <thead>\n",
       "    <tr style=\"text-align: right;\">\n",
       "      <th></th>\n",
       "      <th>Number of Unique Items</th>\n",
       "      <th>Average Price</th>\n",
       "      <th>Total Purchases</th>\n",
       "      <th>Total Revenue</th>\n",
       "    </tr>\n",
       "  </thead>\n",
       "  <tbody>\n",
       "    <tr>\n",
       "      <th>0</th>\n",
       "      <td>179</td>\n",
       "      <td>$3.05</td>\n",
       "      <td>780</td>\n",
       "      <td>$2,379.77</td>\n",
       "    </tr>\n",
       "  </tbody>\n",
       "</table>\n",
       "</div>"
      ],
      "text/plain": [
       "   Number of Unique Items  Average Price  Total Purchases  Total Revenue\n",
       "0                     179          $3.05              780      $2,379.77"
      ]
     },
     "execution_count": 213,
     "metadata": {},
     "output_type": "execute_result"
    }
   ],
   "source": [
    "# Number of unique items\n",
    "items=purchase_data[\"Item Name\"].value_counts()\n",
    "#print(len(items))\n",
    "\n",
    "#Average purchase price, total purchases & total revenue\n",
    "total_price=purchase_data[\"Price\"].sum()\n",
    "total_purchase=purchase_data[\"Price\"].count()\n",
    "avg_price=(total_price/total_purchase)\n",
    "\n",
    "#Formatting for floats\n",
    "pd.options.display.float_format='${:,.2f}'.format\n",
    "#print(avg_price)\n",
    "#print(total_purchase)\n",
    "#print(total_price)\n",
    "\n",
    "#Purchasing Analysis\n",
    "purchase_analysis_df=pd.DataFrame({\"Number of Unique Items\":[(len(items))], \"Average Price\":[avg_price],\"Total Purchases\":[total_purchase],\"Total Revenue\":[total_price]})\n",
    "purchase_analysis_df"
   ]
  },
  {
   "cell_type": "markdown",
   "metadata": {},
   "source": [
    "## Gender Demographics"
   ]
  },
  {
   "cell_type": "markdown",
   "metadata": {},
   "source": [
    "* Percentage and Count of Male Players\n",
    "\n",
    "\n",
    "* Percentage and Count of Female Players\n",
    "\n",
    "\n",
    "* Percentage and Count of Other / Non-Disclosed\n",
    "\n",
    "\n"
   ]
  },
  {
   "cell_type": "code",
   "execution_count": 214,
   "metadata": {},
   "outputs": [
    {
     "name": "stdout",
     "output_type": "stream",
     "text": [
      "     Gender             SN  Age\n",
      "0      Male        Lisim78   20\n",
      "1      Male    Lisovynya38   40\n",
      "2      Male     Ithergue48   24\n",
      "3      Male  Chamassasya86   24\n",
      "4      Male      Iskosia90   23\n",
      "..      ...            ...  ...\n",
      "775  Female     Aethedru70   21\n",
      "776    Male         Iral74   21\n",
      "777    Male     Yathecal72   20\n",
      "778    Male        Sisur91    7\n",
      "779    Male      Ennrian78   24\n",
      "\n",
      "[780 rows x 3 columns]\n"
     ]
    },
    {
     "data": {
      "text/html": [
       "<div>\n",
       "<style scoped>\n",
       "    .dataframe tbody tr th:only-of-type {\n",
       "        vertical-align: middle;\n",
       "    }\n",
       "\n",
       "    .dataframe tbody tr th {\n",
       "        vertical-align: top;\n",
       "    }\n",
       "\n",
       "    .dataframe thead th {\n",
       "        text-align: right;\n",
       "    }\n",
       "</style>\n",
       "<table border=\"1\" class=\"dataframe\">\n",
       "  <thead>\n",
       "    <tr style=\"text-align: right;\">\n",
       "      <th></th>\n",
       "      <th>Total Count</th>\n",
       "      <th>Percentage of Players</th>\n",
       "    </tr>\n",
       "  </thead>\n",
       "  <tbody>\n",
       "    <tr>\n",
       "      <th>Male</th>\n",
       "      <td>484</td>\n",
       "      <td>84.03%</td>\n",
       "    </tr>\n",
       "    <tr>\n",
       "      <th>Female</th>\n",
       "      <td>81</td>\n",
       "      <td>14.06%</td>\n",
       "    </tr>\n",
       "    <tr>\n",
       "      <th>Other / Non-Disclosed</th>\n",
       "      <td>11</td>\n",
       "      <td>1.91%</td>\n",
       "    </tr>\n",
       "  </tbody>\n",
       "</table>\n",
       "</div>"
      ],
      "text/plain": [
       "                       Total Count Percentage of Players\n",
       "Male                           484                84.03%\n",
       "Female                          81                14.06%\n",
       "Other / Non-Disclosed           11                 1.91%"
      ]
     },
     "execution_count": 214,
     "metadata": {},
     "output_type": "execute_result"
    }
   ],
   "source": [
    "#Player demographics-loc to access certain columns\n",
    "players_demo=purchase_data.loc[:,[\"Gender\", \"SN\", \"Age\"]]\n",
    "print(players_demo)\n",
    "\n",
    "#Dropped duplicates from SN\n",
    "players_demo=players_demo.drop_duplicates()\n",
    "players_demo\n",
    "\n",
    "#Count of players\n",
    "players_count=players_demo[\"Gender\"].value_counts()\n",
    "percent_players=players_count/total_players\n",
    "players_count\n",
    "\n",
    "gender_demographics = pd.DataFrame({\"Total Count\": players_count, \"Percentage of Players\": percent_players})\n",
    "#using map to format the values in percentage of players column to 2 decimal & a % sign\n",
    "gender_demographics['Percentage of Players'] = gender_demographics['Percentage of Players'].map(\"{:,.2%}\".format)\n",
    "\n",
    "gender_demographics"
   ]
  },
  {
   "cell_type": "markdown",
   "metadata": {},
   "source": [
    "\n",
    "## Purchasing Analysis (Gender)"
   ]
  },
  {
   "cell_type": "markdown",
   "metadata": {},
   "source": [
    "* Run basic calculations to obtain purchase count, avg. purchase price, avg. purchase total per person etc. by gender\n",
    "\n",
    "\n",
    "\n",
    "\n",
    "* Create a summary data frame to hold the results\n",
    "\n",
    "\n",
    "* Optional: give the displayed data cleaner formatting\n",
    "\n",
    "\n",
    "* Display the summary data frame"
   ]
  },
  {
   "cell_type": "code",
   "execution_count": 215,
   "metadata": {
    "scrolled": false
   },
   "outputs": [
    {
     "name": "stdout",
     "output_type": "stream",
     "text": [
      "Gender\n",
      "Female                   113\n",
      "Male                     652\n",
      "Other / Non-Disclosed     15\n",
      "Name: Purchase ID, dtype: int64\n",
      "Gender\n",
      "Female                  $3.20\n",
      "Male                    $3.02\n",
      "Other / Non-Disclosed   $3.35\n",
      "Name: Price, dtype: float64\n"
     ]
    },
    {
     "data": {
      "text/html": [
       "<div>\n",
       "<style scoped>\n",
       "    .dataframe tbody tr th:only-of-type {\n",
       "        vertical-align: middle;\n",
       "    }\n",
       "\n",
       "    .dataframe tbody tr th {\n",
       "        vertical-align: top;\n",
       "    }\n",
       "\n",
       "    .dataframe thead th {\n",
       "        text-align: right;\n",
       "    }\n",
       "</style>\n",
       "<table border=\"1\" class=\"dataframe\">\n",
       "  <thead>\n",
       "    <tr style=\"text-align: right;\">\n",
       "      <th></th>\n",
       "      <th>Gender</th>\n",
       "      <th>Purchase Count</th>\n",
       "      <th>Avg. Purchase Price</th>\n",
       "      <th>Total Purchase Value</th>\n",
       "      <th>Avg. Total Purchase Price</th>\n",
       "    </tr>\n",
       "  </thead>\n",
       "  <tbody>\n",
       "    <tr>\n",
       "      <th>0</th>\n",
       "      <td>Female</td>\n",
       "      <td>113</td>\n",
       "      <td>$3.20</td>\n",
       "      <td>$361.94</td>\n",
       "      <td>$4.47</td>\n",
       "    </tr>\n",
       "    <tr>\n",
       "      <th>1</th>\n",
       "      <td>Male</td>\n",
       "      <td>652</td>\n",
       "      <td>$3.02</td>\n",
       "      <td>$1,967.64</td>\n",
       "      <td>$4.07</td>\n",
       "    </tr>\n",
       "    <tr>\n",
       "      <th>2</th>\n",
       "      <td>Other / Non-Disclosed</td>\n",
       "      <td>15</td>\n",
       "      <td>$3.35</td>\n",
       "      <td>$50.19</td>\n",
       "      <td>$4.56</td>\n",
       "    </tr>\n",
       "  </tbody>\n",
       "</table>\n",
       "</div>"
      ],
      "text/plain": [
       "                  Gender  Purchase Count  Avg. Purchase Price  \\\n",
       "0                 Female             113                $3.20   \n",
       "1                   Male             652                $3.02   \n",
       "2  Other / Non-Disclosed              15                $3.35   \n",
       "\n",
       "   Total Purchase Value  Avg. Total Purchase Price  \n",
       "0               $361.94                      $4.47  \n",
       "1             $1,967.64                      $4.07  \n",
       "2                $50.19                      $4.56  "
      ]
     },
     "execution_count": 215,
     "metadata": {},
     "output_type": "execute_result"
    }
   ],
   "source": [
    "#Dataframe containing gender data\n",
    "gender_group=purchase_data.groupby([\"Gender\"])\n",
    "#print(gender_group)\n",
    "\n",
    "#Purchase count - count values\n",
    "purchase_count=gender_group[\"Purchase ID\"].count()\n",
    "print(purchase_count)\n",
    "\n",
    "#Avg purchase price - used aggregate function to get the mean of prices grouped by gender\n",
    "print(gender_group['Price'].agg(np.mean))\n",
    "\n",
    "#Avg. purchase total per person by gender\n",
    "#print(\"--Avg. purchase total per person by gender--\")\n",
    "SN_group=purchase_data.groupby([\"SN\", \"Gender\"])\n",
    "sum_SN=SN_group[\"Price\"].agg(np.sum)\n",
    "avg_SN_gender=sum_SN.groupby([\"Gender\"]).agg(np.mean)\n",
    "#print(avg_SN_gender)\n",
    "\n",
    "#Purchasing Analysis Gender-reset_index() for the columns names to 'align'\n",
    "gender_demo=pd.DataFrame({\"Purchase Count\":(purchase_count), \"Avg. Purchase Price\":(gender_group['Price'].agg(np.mean)), \"Total Purchase Value\":(gender_group['Price'].agg(np.sum)), \"Avg. Total Purchase Price\":(avg_SN_gender)}).reset_index()\n",
    "gender_demo"
   ]
  },
  {
   "cell_type": "markdown",
   "metadata": {},
   "source": [
    "## Age Demographics"
   ]
  },
  {
   "cell_type": "markdown",
   "metadata": {},
   "source": [
    "* Establish bins for ages\n",
    "\n",
    "\n",
    "* Categorize the existing players using the age bins. Hint: use pd.cut()\n",
    "\n",
    "\n",
    "* Calculate the numbers and percentages by age group\n",
    "\n",
    "\n",
    "* Create a summary data frame to hold the results\n",
    "\n",
    "\n",
    "* Optional: round the percentage column to two decimal points\n",
    "\n",
    "\n",
    "* Display Age Demographics Table\n"
   ]
  },
  {
   "cell_type": "code",
   "execution_count": 216,
   "metadata": {},
   "outputs": [
    {
     "data": {
      "text/html": [
       "<div>\n",
       "<style scoped>\n",
       "    .dataframe tbody tr th:only-of-type {\n",
       "        vertical-align: middle;\n",
       "    }\n",
       "\n",
       "    .dataframe tbody tr th {\n",
       "        vertical-align: top;\n",
       "    }\n",
       "\n",
       "    .dataframe thead th {\n",
       "        text-align: right;\n",
       "    }\n",
       "</style>\n",
       "<table border=\"1\" class=\"dataframe\">\n",
       "  <thead>\n",
       "    <tr style=\"text-align: right;\">\n",
       "      <th></th>\n",
       "      <th>Age Group</th>\n",
       "      <th>Age Count</th>\n",
       "      <th>Age Percentage</th>\n",
       "    </tr>\n",
       "  </thead>\n",
       "  <tbody>\n",
       "    <tr>\n",
       "      <th>0</th>\n",
       "      <td>0-20</td>\n",
       "      <td>348</td>\n",
       "      <td>60.42%</td>\n",
       "    </tr>\n",
       "    <tr>\n",
       "      <th>1</th>\n",
       "      <td>21-23</td>\n",
       "      <td>137</td>\n",
       "      <td>23.78%</td>\n",
       "    </tr>\n",
       "    <tr>\n",
       "      <th>2</th>\n",
       "      <td>24-26</td>\n",
       "      <td>140</td>\n",
       "      <td>24.31%</td>\n",
       "    </tr>\n",
       "    <tr>\n",
       "      <th>3</th>\n",
       "      <td>27-46</td>\n",
       "      <td>155</td>\n",
       "      <td>26.91%</td>\n",
       "    </tr>\n",
       "  </tbody>\n",
       "</table>\n",
       "</div>"
      ],
      "text/plain": [
       "  Age Group  Age Count Age Percentage\n",
       "0      0-20        348         60.42%\n",
       "1     21-23        137         23.78%\n",
       "2     24-26        140         24.31%\n",
       "3     27-46        155         26.91%"
      ]
     },
     "execution_count": 216,
     "metadata": {},
     "output_type": "execute_result"
    }
   ],
   "source": [
    "age_bins=pd.cut(purchase_data[\"Age\"], bins=[0,21,23,26,46], labels=[\"0-20\",\"21-23\",\"24-26\",\"27-46\"])\n",
    "\n",
    "purchase_data[\"Age Group\"]=age_bins\n",
    "purchase_data\n",
    "\n",
    "age_group=purchase_data.groupby([\"Age Group\"])\n",
    "count_age=age_group[\"Age\"].count()\n",
    "count_age\n",
    "age_percent = count_age/total_players\n",
    "age_percent\n",
    "\n",
    "age_demographics = pd.DataFrame({\"Age Count\": count_age, \"Age Percentage\": age_percent}).reset_index()\n",
    "#using map to format the values in Age percentage column to 2 decimal & a % sign\n",
    "age_demographics[\"Age Percentage\"] = age_demographics[\"Age Percentage\"].map(\"{:,.2%}\".format)\n",
    "age_demographics"
   ]
  },
  {
   "cell_type": "markdown",
   "metadata": {},
   "source": [
    "## Purchasing Analysis (Age)"
   ]
  },
  {
   "cell_type": "markdown",
   "metadata": {},
   "source": [
    "* Bin the purchase_data data frame by age\n",
    "\n",
    "\n",
    "* Run basic calculations to obtain purchase count, avg. purchase price, avg. purchase total per person etc. in the table below\n",
    "\n",
    "\n",
    "* Create a summary data frame to hold the results\n",
    "\n",
    "\n",
    "* Optional: give the displayed data cleaner formatting\n",
    "\n",
    "\n",
    "* Display the summary data frame"
   ]
  },
  {
   "cell_type": "code",
   "execution_count": 223,
   "metadata": {},
   "outputs": [
    {
     "data": {
      "text/html": [
       "<div>\n",
       "<style scoped>\n",
       "    .dataframe tbody tr th:only-of-type {\n",
       "        vertical-align: middle;\n",
       "    }\n",
       "\n",
       "    .dataframe tbody tr th {\n",
       "        vertical-align: top;\n",
       "    }\n",
       "\n",
       "    .dataframe thead th {\n",
       "        text-align: right;\n",
       "    }\n",
       "</style>\n",
       "<table border=\"1\" class=\"dataframe\">\n",
       "  <thead>\n",
       "    <tr style=\"text-align: right;\">\n",
       "      <th></th>\n",
       "      <th>Age Group</th>\n",
       "      <th>Price Count</th>\n",
       "      <th>Avg. Purchase Price</th>\n",
       "      <th>Total Purchase Value</th>\n",
       "      <th>Avg. Total Purchase Per Person</th>\n",
       "    </tr>\n",
       "  </thead>\n",
       "  <tbody>\n",
       "    <tr>\n",
       "      <th>0</th>\n",
       "      <td>&lt;10</td>\n",
       "      <td>23</td>\n",
       "      <td>$3.35</td>\n",
       "      <td>$77.13</td>\n",
       "      <td>$3.35</td>\n",
       "    </tr>\n",
       "    <tr>\n",
       "      <th>1</th>\n",
       "      <td>10-14</td>\n",
       "      <td>28</td>\n",
       "      <td>$2.96</td>\n",
       "      <td>$82.78</td>\n",
       "      <td>$2.96</td>\n",
       "    </tr>\n",
       "    <tr>\n",
       "      <th>2</th>\n",
       "      <td>20-24</td>\n",
       "      <td>297</td>\n",
       "      <td>$3.06</td>\n",
       "      <td>$907.95</td>\n",
       "      <td>$3.06</td>\n",
       "    </tr>\n",
       "    <tr>\n",
       "      <th>3</th>\n",
       "      <td>30-34</td>\n",
       "      <td>392</td>\n",
       "      <td>$3.01</td>\n",
       "      <td>$1,178.03</td>\n",
       "      <td>$3.01</td>\n",
       "    </tr>\n",
       "    <tr>\n",
       "      <th>4</th>\n",
       "      <td>40+</td>\n",
       "      <td>40</td>\n",
       "      <td>$3.35</td>\n",
       "      <td>$133.88</td>\n",
       "      <td>$3.35</td>\n",
       "    </tr>\n",
       "  </tbody>\n",
       "</table>\n",
       "</div>"
      ],
      "text/plain": [
       "  Age Group  Price Count  Avg. Purchase Price  Total Purchase Value  \\\n",
       "0       <10           23                $3.35                $77.13   \n",
       "1     10-14           28                $2.96                $82.78   \n",
       "2     20-24          297                $3.06               $907.95   \n",
       "3     30-34          392                $3.01             $1,178.03   \n",
       "4       40+           40                $3.35               $133.88   \n",
       "\n",
       "   Avg. Total Purchase Per Person  \n",
       "0                           $3.35  \n",
       "1                           $2.96  \n",
       "2                           $3.06  \n",
       "3                           $3.01  \n",
       "4                           $3.35  "
      ]
     },
     "execution_count": 223,
     "metadata": {},
     "output_type": "execute_result"
    }
   ],
   "source": [
    "age_bins=pd.cut(purchase_data[\"Age\"], bins=[0,9.9,14.9,21.9,35.9,45.9], labels=[\"<10\",\"10-14\",\"20-24\",\"30-34\",\"40+\"])\n",
    "age_bins\n",
    "\n",
    "purchase_data[\"Age Group\"]=age_bins\n",
    "purchase_data\n",
    "\n",
    "age_group=purchase_data.groupby([\"Age Group\"])\n",
    "price_count=age_group[\"Price\"].count()\n",
    "#price_count\n",
    "avg_price=age_group[\"Price\"].mean()\n",
    "#avg_price\n",
    "total_price=age_group[\"Price\"].sum()\n",
    "#total_price\n",
    "avg_per_person=total_price/price_count\n",
    "#age_percent\n",
    "\n",
    "age_demographics = pd.DataFrame({\"Price Count\": price_count, \"Avg. Purchase Price\": avg_price, \"Total Purchase Value\": total_price, \"Avg. Total Purchase Per Person\": avg_per_person}).reset_index()\n",
    "#age_demographics[\"Age Percentage\"] = age_demographics[\"Age Percentage\"].map(\"{:,.2%}\".format)\n",
    "age_demographics"
   ]
  },
  {
   "cell_type": "markdown",
   "metadata": {},
   "source": [
    "## Top Spenders"
   ]
  },
  {
   "cell_type": "markdown",
   "metadata": {},
   "source": [
    "* Run basic calculations to obtain the results in the table below\n",
    "\n",
    "\n",
    "* Create a summary data frame to hold the results\n",
    "\n",
    "\n",
    "* Sort the total purchase value column in descending order\n",
    "\n",
    "\n",
    "* Optional: give the displayed data cleaner formatting\n",
    "\n",
    "\n",
    "* Display a preview of the summary data frame\n",
    "\n"
   ]
  },
  {
   "cell_type": "code",
   "execution_count": 218,
   "metadata": {
    "scrolled": false
   },
   "outputs": [
    {
     "name": "stdout",
     "output_type": "stream",
     "text": [
      "                SN  Total Price  Count  Average Total Price\n",
      "0        Lisosia93       $18.96      5                $3.79\n",
      "1      Idastidru52       $15.45      4                $3.86\n",
      "2       Chamjask73       $13.83      3                $4.61\n",
      "3           Iral74       $13.62      4                $3.40\n",
      "4      Iskadarya95       $13.10      3                $4.37\n",
      "..             ...          ...    ...                  ...\n",
      "571  Frichjaskan98        $1.02      1                $1.02\n",
      "572       Irilis75        $1.02      1                $1.02\n",
      "573        Aidai61        $1.01      1                $1.01\n",
      "574     Chanirra79        $1.01      1                $1.01\n",
      "575          Alo38        $1.00      1                $1.00\n",
      "\n",
      "[576 rows x 4 columns]\n"
     ]
    }
   ],
   "source": [
    "#This statement groups by SN & agg price sum-if as_index false is not included, the column name for price disappears\n",
    "SN_group=purchase_data.groupby(['SN'],as_index=False)['Price'].agg(np.sum)\n",
    "#sorting values by price and in descending order\n",
    "SN_group_desc=SN_group_desc.sort_values(by=['Price'],ascending=False)\n",
    "\n",
    "#Similar to above, group by SN and counts price\n",
    "purchase_count=purchase_data.groupby(['SN'],as_index=False)['Price'].count()\n",
    "#Sorts the values by price and in descending order\n",
    "purchase_count_desc=purchase_count.sort_values(by=['Price'],ascending=False)\n",
    "\n",
    "#merging the two sorted dataframes on SN\n",
    "avg_total_price=pd.merge(SN_group_desc,purchase_count_desc, how=\"left\", on=\"SN\")\n",
    "#assigning new column names to the merged dataframe\n",
    "avg_total_price.columns=[\"SN\",\"Total Price\",\"Count\"]\n",
    "\n",
    "#calculating avg. total price & \"assigning\" the output to a new column Average Total price\n",
    "avg_total_price[\"Average Total Price\"]=avg_total_price[\"Total Price\"]/avg_total_price[\"Count\"]\n",
    "print(avg_total_price)\n",
    "\n",
    "# Assigning merged data to dataframe output\n",
    "age_demographics = pd.DataFrame({\"Price Count\": price_count, \"Avg. Purchase Price\": avg_price, \"Total Purchase Value\": total_price, \"Avg. Total Purchase Per Person\": avg_per_person}).reset_index()\n"
   ]
  },
  {
   "cell_type": "markdown",
   "metadata": {},
   "source": [
    "## Most Popular Items"
   ]
  },
  {
   "cell_type": "markdown",
   "metadata": {},
   "source": [
    "* Retrieve the Item ID, Item Name, and Item Price columns\n",
    "\n",
    "\n",
    "* Group by Item ID and Item Name. Perform calculations to obtain purchase count, average item price, and total purchase value\n",
    "\n",
    "\n",
    "* Create a summary data frame to hold the results\n",
    "\n",
    "\n",
    "* Sort the purchase count column in descending order\n",
    "\n",
    "\n",
    "* Optional: give the displayed data cleaner formatting\n",
    "\n",
    "\n",
    "* Display a preview of the summary data frame\n",
    "\n"
   ]
  },
  {
   "cell_type": "code",
   "execution_count": 228,
   "metadata": {},
   "outputs": [
    {
     "name": "stdout",
     "output_type": "stream",
     "text": [
      "   Item ID                                     Item Name  Count  \\\n",
      "0       92                                  Final Critic     13   \n",
      "1      178  Oathbreaker, Last Hope of the Breaking Storm     12   \n",
      "2      145                          Fiery Glass Crusader      9   \n",
      "3      132                                    Persuasion      9   \n",
      "4      108     Extraction, Quickblade Of Trembling Hands      9   \n",
      "\n",
      "   Average Price  Total Price  \n",
      "0          $4.61       $59.99  \n",
      "1          $4.23       $50.76  \n",
      "2          $4.58       $41.22  \n",
      "3          $3.22       $28.99  \n",
      "4          $3.53       $31.77  \n"
     ]
    }
   ],
   "source": [
    "#Grouped by Item Name and item ID, used 'SN' to count\n",
    "popular_count=purchase_data.groupby(['Item ID','Item Name'],as_index=False)['SN'].count()\n",
    "#Added new column names for the group by object\n",
    "popular_count.columns = ['Item ID','Item Name','Count']\n",
    "#Sorting values by count and in descending order\n",
    "popular_count_desc=popular_count.sort_values(by=['Count'],ascending=False)\n",
    "#printing to check the output\n",
    "#print(popular_count_desc)\n",
    "\n",
    "#Grouped by Item ID and calculating the average price\n",
    "avg_price=purchase_data.groupby(['Item ID'],as_index=False)['Price'].agg(np.mean)\n",
    "#Added new column names for the group by object\n",
    "avg_price.columns=['Item ID', 'Average Price']\n",
    "#Sorting by average price and in descending order\n",
    "avg_price_desc=avg_price.sort_values(by=['Average Price'],ascending=False)\n",
    "#print to check the output of this group by\n",
    "#print(avg_price_desc)\n",
    "\n",
    "#Grouped by Item ID and calculating the total price\n",
    "total_price=purchase_data.groupby(['Item ID'],as_index=False)['Price'].sum()\n",
    "#Added new column names for the group by object\n",
    "total_price.columns=['Item ID', 'Total Price']\n",
    "#Sorting by price in descending order\n",
    "total_price_desc=total_price.sort_values(by=['Total Price'], ascending=False)\n",
    "#print to check the output of this group by\n",
    "#print(total_price_desc)\n",
    "\n",
    "#merging the two 'dataframes' popular count & avg price on Item ID\n",
    "avg_count=pd.merge(popular_count_desc,avg_price_desc, how=\"left\", on=\"Item ID\")\n",
    "#print(avg_count)\n",
    "\n",
    "#merging avg total price and above merged dataframe\n",
    "avg_count_tot_price=pd.merge(avg_count,total_price_desc, how=\"left\", on=\"Item ID\")\n",
    "popular_items=avg_count_tot_price.head(5)\n",
    "print(popular_items)\n",
    "\n",
    "# Assigning merged data to dataframe output\n",
    "#popular_items=pd.DataFrame({\"Price Count\": price_count, \"Avg. Purchase Price\": avg_price, \"Total Purchase Value\": total_price, \"Avg. Total Purchase Per Person\": avg_per_person})\n",
    "\n"
   ]
  },
  {
   "cell_type": "markdown",
   "metadata": {},
   "source": [
    "## Most Profitable Items"
   ]
  },
  {
   "cell_type": "markdown",
   "metadata": {},
   "source": [
    "* Sort the above table by total purchase value in descending order\n",
    "\n",
    "\n",
    "* Optional: give the displayed data cleaner formatting\n",
    "\n",
    "\n",
    "* Display a preview of the data frame\n",
    "\n"
   ]
  },
  {
   "cell_type": "code",
   "execution_count": null,
   "metadata": {
    "scrolled": true
   },
   "outputs": [],
   "source": []
  }
 ],
 "metadata": {
  "anaconda-cloud": {},
  "kernel_info": {
   "name": "python3"
  },
  "kernelspec": {
   "display_name": "Python 3",
   "language": "python",
   "name": "python3"
  },
  "language_info": {
   "codemirror_mode": {
    "name": "ipython",
    "version": 3
   },
   "file_extension": ".py",
   "mimetype": "text/x-python",
   "name": "python",
   "nbconvert_exporter": "python",
   "pygments_lexer": "ipython3",
   "version": "3.8.3"
  },
  "latex_envs": {
   "LaTeX_envs_menu_present": true,
   "autoclose": false,
   "autocomplete": true,
   "bibliofile": "biblio.bib",
   "cite_by": "apalike",
   "current_citInitial": 1,
   "eqLabelWithNumbers": true,
   "eqNumInitial": 1,
   "hotkeys": {
    "equation": "Ctrl-E",
    "itemize": "Ctrl-I"
   },
   "labels_anchors": false,
   "latex_user_defs": false,
   "report_style_numbering": false,
   "user_envs_cfg": false
  },
  "nteract": {
   "version": "0.2.0"
  }
 },
 "nbformat": 4,
 "nbformat_minor": 2
}
